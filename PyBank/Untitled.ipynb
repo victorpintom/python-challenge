{
 "cells": [
  {
   "cell_type": "code",
   "execution_count": 7,
   "id": "faf08093-ade0-4956-8c75-e62bb0e69ebc",
   "metadata": {
    "tags": []
   },
   "outputs": [],
   "source": [
    "from pathlib import Path"
   ]
  },
  {
   "cell_type": "code",
   "execution_count": 8,
   "id": "85fbe60e-eb9b-4512-be56-e440db26952c",
   "metadata": {
    "tags": []
   },
   "outputs": [
    {
     "name": "stdout",
     "output_type": "stream",
     "text": [
      "Current Working Directory: C:\\Users\\victo\\OneDrive\\Documentos\\GitHub\\python-challenge\\PyBank\n"
     ]
    }
   ],
   "source": [
    "print(f\"Current Working Directory: {Path.cwd()}\")"
   ]
  },
  {
   "cell_type": "code",
   "execution_count": 11,
   "id": "ac296f12-67a1-49da-8f2c-6819b38ce896",
   "metadata": {
    "tags": []
   },
   "outputs": [],
   "source": [
    "file = Path(r'C:\\Users\\victo\\Documents\\UTOR-VIRT-FIN-PT-08-2023-U-LOLC\\02-Python\\Class 3 (Aug 24)\\Activities\\08-Stu_File_IO\\Resources\\customer_traffic.txt')"
   ]
  },
  {
   "cell_type": "code",
   "execution_count": 12,
   "id": "922fc23d-8cc0-486f-81f0-f15e113c4db5",
   "metadata": {
    "tags": []
   },
   "outputs": [],
   "source": [
    "customer_total = 0\n",
    "day_count = 0"
   ]
  },
  {
   "cell_type": "code",
   "execution_count": 13,
   "id": "e88885c9-3994-4d49-b313-4f755cf4a467",
   "metadata": {
    "tags": []
   },
   "outputs": [],
   "source": [
    "with open(file, 'r') as file:\n",
    "    for line in file:\n",
    "        number = int(line)\n",
    "        customer_total += number\n",
    "        day_count += 1"
   ]
  },
  {
   "cell_type": "code",
   "execution_count": 14,
   "id": "62f4e403-29d5-4ad3-bc90-5ed0b07437cb",
   "metadata": {
    "tags": []
   },
   "outputs": [
    {
     "name": "stdout",
     "output_type": "stream",
     "text": [
      "customer_total: 4945\n",
      "day_count: 100\n",
      "-----------------------\n"
     ]
    }
   ],
   "source": [
    "print(f\"customer_total: {customer_total}\")\n",
    "print(f\"day_count: {day_count}\")\n",
    "print(\"-----------------------\")"
   ]
  },
  {
   "cell_type": "code",
   "execution_count": 15,
   "id": "aa6e1a68-79bb-4876-b24b-68ffcf98899c",
   "metadata": {
    "tags": []
   },
   "outputs": [
    {
     "name": "stdout",
     "output_type": "stream",
     "text": [
      "daily_average: 49.45\n"
     ]
    }
   ],
   "source": [
    "daily_average = customer_total / day_count\n",
    "print(f\"daily_average: {daily_average}\")"
   ]
  },
  {
   "cell_type": "code",
   "execution_count": 16,
   "id": "738d22b8-40ff-44f3-ab8c-474a7d50c197",
   "metadata": {
    "tags": []
   },
   "outputs": [],
   "source": [
    "output_path = 'output.txt'"
   ]
  },
  {
   "cell_type": "code",
   "execution_count": 17,
   "id": "ff9b765d-db65-4ab2-ac70-6b8284b77b8e",
   "metadata": {
    "tags": []
   },
   "outputs": [],
   "source": [
    "with open(output_path, 'w') as file:\n",
    "    file.write(f\"There were {customer_total} customers over the course of {day_count} days.\\n\")\n",
    "    file.write(f\"The average daily customer traffic is {daily_average} customers per day.\")"
   ]
  },
  {
   "cell_type": "code",
   "execution_count": null,
   "id": "2a564b67-4271-40e5-9fdb-2975492ad403",
   "metadata": {},
   "outputs": [],
   "source": []
  }
 ],
 "metadata": {
  "kernelspec": {
   "display_name": "Python 3 (ipykernel)",
   "language": "python",
   "name": "python3"
  },
  "language_info": {
   "codemirror_mode": {
    "name": "ipython",
    "version": 3
   },
   "file_extension": ".py",
   "mimetype": "text/x-python",
   "name": "python",
   "nbconvert_exporter": "python",
   "pygments_lexer": "ipython3",
   "version": "3.10.12"
  }
 },
 "nbformat": 4,
 "nbformat_minor": 5
}
