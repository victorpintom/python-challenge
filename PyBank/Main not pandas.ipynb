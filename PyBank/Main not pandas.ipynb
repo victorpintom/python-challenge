{
 "cells": [
  {
   "cell_type": "code",
   "execution_count": 608,
   "id": "7f5d0f95-f1b7-44a0-8119-cca5e3734789",
   "metadata": {
    "tags": []
   },
   "outputs": [],
   "source": [
    "from pathlib import Path\n",
    "import csv"
   ]
  },
  {
   "cell_type": "code",
   "execution_count": 609,
   "id": "2040483f-0888-4d73-8f4b-112d3e6a0ddb",
   "metadata": {
    "tags": []
   },
   "outputs": [],
   "source": [
    "csvpath = Path(r\"C:\\Users\\victo\\OneDrive\\Documentos\\GitHub\\python-challenge\\PyBank\\budget_data.csv\")"
   ]
  },
  {
   "cell_type": "code",
   "execution_count": 610,
   "id": "ff4bc646-15f0-4bc6-a680-e988d0039edc",
   "metadata": {
    "tags": []
   },
   "outputs": [],
   "source": [
    "dates = []\n",
    "p_l = []"
   ]
  },
  {
   "cell_type": "code",
   "execution_count": 611,
   "id": "be0b4548-986d-4710-8740-91091211311b",
   "metadata": {
    "tags": []
   },
   "outputs": [],
   "source": [
    "line_num = 0"
   ]
  },
  {
   "cell_type": "code",
   "execution_count": 612,
   "id": "30e5b3b9-5f70-4782-984f-a5e7e68d2334",
   "metadata": {
    "tags": []
   },
   "outputs": [
    {
     "name": "stdout",
     "output_type": "stream",
     "text": [
      "['Date', 'Profit/Losses']\n",
      "['Jan-2010', '867884']\n",
      "['Feb-2010', '984655']\n",
      "['Mar-2010', '322013']\n",
      "['Apr-2010', '-69417']\n",
      "['May-2010', '310503']\n",
      "['Jun-2010', '522857']\n",
      "['Jul-2010', '1033096']\n",
      "['Aug-2010', '604885']\n",
      "['Sep-2010', '-216386']\n",
      "['Oct-2010', '477532']\n",
      "['Nov-2010', '893810']\n",
      "['Dec-2010', '-80353']\n",
      "['Jan-2011', '779806']\n",
      "['Feb-2011', '-335203']\n",
      "['Mar-2011', '697845']\n",
      "['Apr-2011', '793163']\n",
      "['May-2011', '485070']\n",
      "['Jun-2011', '584122']\n",
      "['Jul-2011', '62729']\n",
      "['Aug-2011', '668179']\n",
      "['Sep-2011', '899906']\n",
      "['Oct-2011', '834719']\n",
      "['Nov-2011', '132003']\n",
      "['Dec-2011', '309978']\n",
      "['Jan-2012', '-755566']\n",
      "['Feb-2012', '1170593']\n",
      "['Mar-2012', '252788']\n",
      "['Apr-2012', '1151518']\n",
      "['May-2012', '817256']\n",
      "['Jun-2012', '570757']\n",
      "['Jul-2012', '506702']\n",
      "['Aug-2012', '-1022534']\n",
      "['Sep-2012', '475062']\n",
      "['Oct-2012', '779976']\n",
      "['Nov-2012', '144175']\n",
      "['Dec-2012', '542494']\n",
      "['Jan-2013', '359333']\n",
      "['Feb-2013', '321469']\n",
      "['Mar-2013', '67780']\n",
      "['Apr-2013', '471435']\n",
      "['May-2013', '565603']\n",
      "['Jun-2013', '872480']\n",
      "['Jul-2013', '789480']\n",
      "['Aug-2013', '999942']\n",
      "['Sep-2013', '-1196225']\n",
      "['Oct-2013', '268997']\n",
      "['Nov-2013', '-687986']\n",
      "['Dec-2013', '1150461']\n",
      "['Jan-2014', '682458']\n",
      "['Feb-2014', '617856']\n",
      "['Mar-2014', '824098']\n",
      "['Apr-2014', '581943']\n",
      "['May-2014', '132864']\n",
      "['Jun-2014', '448062']\n",
      "['Jul-2014', '689161']\n",
      "['Aug-2014', '800701']\n",
      "['Sep-2014', '1166643']\n",
      "['Oct-2014', '947333']\n",
      "['Nov-2014', '578668']\n",
      "['Dec-2014', '988505']\n",
      "['Jan-2015', '1139715']\n",
      "['Feb-2015', '1029471']\n",
      "['Mar-2015', '687533']\n",
      "['Apr-2015', '-524626']\n",
      "['May-2015', '158620']\n",
      "['Jun-2015', '87795']\n",
      "['Jul-2015', '423389']\n",
      "['Aug-2015', '840723']\n",
      "['Sep-2015', '568529']\n",
      "['Oct-2015', '332067']\n",
      "['Nov-2015', '989499']\n",
      "['Dec-2015', '778237']\n",
      "['Jan-2016', '650000']\n",
      "['Feb-2016', '-1100387']\n",
      "['Mar-2016', '-174946']\n",
      "['Apr-2016', '757143']\n",
      "['May-2016', '445709']\n",
      "['Jun-2016', '712961']\n",
      "['Jul-2016', '-1163797']\n",
      "['Aug-2016', '569899']\n",
      "['Sep-2016', '768450']\n",
      "['Oct-2016', '102685']\n",
      "['Nov-2016', '795914']\n",
      "['Dec-2016', '60988']\n",
      "['Jan-2017', '138230']\n",
      "['Feb-2017', '671099']\n"
     ]
    }
   ],
   "source": [
    "with open(csvpath, 'r') as csvfile:\n",
    "    csvreader = csv.reader(csvfile, delimiter=',')\n",
    "    header = next(csvreader)\n",
    "    line_num += 1\n",
    "    print (f\"{header}\")\n",
    "    for row in csvreader:\n",
    "        print(row)\n",
    "        dates.append(row[0])\n",
    "        p_l.append(int(row[1]))"
   ]
  },
  {
   "cell_type": "code",
   "execution_count": 613,
   "id": "1df32ef1-0068-4e11-a788-262e8b7bc603",
   "metadata": {
    "tags": []
   },
   "outputs": [],
   "source": [
    "total_months=len(dates)"
   ]
  },
  {
   "cell_type": "code",
   "execution_count": 614,
   "id": "a2090086-b6ad-4855-85bf-dfe218a4a61d",
   "metadata": {
    "tags": []
   },
   "outputs": [
    {
     "data": {
      "text/plain": [
       "86"
      ]
     },
     "execution_count": 614,
     "metadata": {},
     "output_type": "execute_result"
    }
   ],
   "source": [
    "total_months"
   ]
  },
  {
   "cell_type": "code",
   "execution_count": 615,
   "id": "6cacdfef-a349-4c30-bc9d-a29a3754eb2a",
   "metadata": {
    "tags": []
   },
   "outputs": [],
   "source": [
    "net_total=sum(p_l)"
   ]
  },
  {
   "cell_type": "code",
   "execution_count": 616,
   "id": "1a4ce506-0d06-466c-9d8b-9bc08091a469",
   "metadata": {
    "tags": []
   },
   "outputs": [
    {
     "data": {
      "text/plain": [
       "38382578"
      ]
     },
     "execution_count": 616,
     "metadata": {},
     "output_type": "execute_result"
    }
   ],
   "source": [
    "net_total"
   ]
  },
  {
   "cell_type": "code",
   "execution_count": 617,
   "id": "5fe00cca-cce1-4a25-9b40-5cdb04ede5e8",
   "metadata": {
    "tags": []
   },
   "outputs": [],
   "source": [
    "x = 1\n",
    "y = 0"
   ]
  },
  {
   "cell_type": "code",
   "execution_count": 618,
   "id": "ec3a5d71-fb52-4dc3-86ab-114a881dc8ee",
   "metadata": {
    "tags": []
   },
   "outputs": [],
   "source": [
    "avg_changes = (p_l[1] - p_l[0])"
   ]
  },
  {
   "cell_type": "code",
   "execution_count": 619,
   "id": "691a5c9f-4002-4c68-b0f9-a6838f061b4e",
   "metadata": {
    "tags": []
   },
   "outputs": [],
   "source": [
    "changes = []"
   ]
  },
  {
   "cell_type": "code",
   "execution_count": 620,
   "id": "1eebcb47-b659-4b2c-b7fe-f9af8ac25875",
   "metadata": {
    "tags": []
   },
   "outputs": [],
   "source": [
    "for row in range(total_months-1):\n",
    "    avg_changes = (p_l[x] - p_l[y])\n",
    "    changes.append(int(avg_changes))\n",
    "    x+=1\n",
    "    y+=1"
   ]
  },
  {
   "cell_type": "code",
   "execution_count": 621,
   "id": "31122bee-acd9-44a0-834e-12f4a7c7374a",
   "metadata": {
    "tags": []
   },
   "outputs": [],
   "source": [
    "avg_changes_entire_period = round(sum(changes)/(total_months-1),2)"
   ]
  },
  {
   "cell_type": "code",
   "execution_count": 622,
   "id": "0cf1ab8d-b6ed-4e9a-9b64-8a672375fee2",
   "metadata": {
    "tags": []
   },
   "outputs": [
    {
     "data": {
      "text/plain": [
       "-2315.12"
      ]
     },
     "execution_count": 622,
     "metadata": {},
     "output_type": "execute_result"
    }
   ],
   "source": [
    "avg_changes_entire_period"
   ]
  },
  {
   "cell_type": "code",
   "execution_count": 623,
   "id": "07f47d17-165c-4096-b3ff-14b33d92536b",
   "metadata": {
    "tags": []
   },
   "outputs": [],
   "source": [
    "greatest_increase = max(changes)"
   ]
  },
  {
   "cell_type": "code",
   "execution_count": 624,
   "id": "646486de-82bb-4e46-aaac-1e3cb9d374b4",
   "metadata": {
    "tags": []
   },
   "outputs": [
    {
     "data": {
      "text/plain": [
       "1926159"
      ]
     },
     "execution_count": 624,
     "metadata": {},
     "output_type": "execute_result"
    }
   ],
   "source": [
    "greatest_increase"
   ]
  },
  {
   "cell_type": "code",
   "execution_count": 625,
   "id": "4f976b6b-e988-4c35-9975-636832376b8c",
   "metadata": {
    "tags": []
   },
   "outputs": [],
   "source": [
    "greatest_decrease = min(changes)"
   ]
  },
  {
   "cell_type": "code",
   "execution_count": 626,
   "id": "1575ace1-2fc3-499d-a0aa-dfd6697cf6ac",
   "metadata": {
    "tags": []
   },
   "outputs": [
    {
     "data": {
      "text/plain": [
       "-2196167"
      ]
     },
     "execution_count": 626,
     "metadata": {},
     "output_type": "execute_result"
    }
   ],
   "source": [
    "greatest_decrease"
   ]
  },
  {
   "cell_type": "code",
   "execution_count": 627,
   "id": "0b17191e-9b87-40b1-ac89-e4014a079de9",
   "metadata": {
    "tags": []
   },
   "outputs": [],
   "source": [
    "text_path = \"output not pandas.txt\""
   ]
  },
  {
   "cell_type": "code",
   "execution_count": 628,
   "id": "5476a562-1dd6-487e-951a-c0aefbdfa6a1",
   "metadata": {},
   "outputs": [],
   "source": [
    "with open(text_path, 'w') as file:\n",
    "    file.write(\"Financial Analysis\\n\\n\")\n",
    "    file.write(\"---------------------\\n\\n\")\n",
    "    file.write(\"Total Months: %d\\n\\n\" % total_months)\n",
    "    file.write(\"Total: $%d \\n\\n\" % net_total)\n",
    "    file.write(\"Average Change: $%.2f \\n\\n\" % avg_changes_entire_period)\n",
    "    file.write(\"Greatest Increase in Profits: ($%d) \\n\\n\" % greatest_increase)\n",
    "    file.write(\"Greatest Decrease in Profits: ($%d) \\n\\n\" % greatest_decrease)"
   ]
  },
  {
   "cell_type": "code",
   "execution_count": null,
   "id": "22725311-9b9c-4347-b200-34db0d607feb",
   "metadata": {},
   "outputs": [],
   "source": []
  }
 ],
 "metadata": {
  "kernelspec": {
   "display_name": "Python 3 (ipykernel)",
   "language": "python",
   "name": "python3"
  },
  "language_info": {
   "codemirror_mode": {
    "name": "ipython",
    "version": 3
   },
   "file_extension": ".py",
   "mimetype": "text/x-python",
   "name": "python",
   "nbconvert_exporter": "python",
   "pygments_lexer": "ipython3",
   "version": "3.10.12"
  }
 },
 "nbformat": 4,
 "nbformat_minor": 5
}
