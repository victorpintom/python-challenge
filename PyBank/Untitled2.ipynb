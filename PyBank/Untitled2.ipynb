{
 "cells": [
  {
   "cell_type": "code",
   "execution_count": 19,
   "id": "1aaddfa9-7715-40e1-9041-8acf50c77e6c",
   "metadata": {
    "tags": []
   },
   "outputs": [],
   "source": [
    "from pathlib import Path"
   ]
  },
  {
   "cell_type": "code",
   "execution_count": 22,
   "id": "f3bae447-60ae-43fd-89d2-f3de4883a746",
   "metadata": {
    "tags": []
   },
   "outputs": [],
   "source": [
    "filepath = Path(r\"C:\\Users\\victo\\OneDrive\\Documentos\\1. Fintech\\Test.txt\")"
   ]
  },
  {
   "cell_type": "code",
   "execution_count": 23,
   "id": "fe0cf3a2-2fc4-40d5-aa4c-80fe04496481",
   "metadata": {
    "tags": []
   },
   "outputs": [
    {
     "name": "stdout",
     "output_type": "stream",
     "text": [
      "1. ABC\n",
      "2. DEF\n"
     ]
    }
   ],
   "source": [
    "with open(filepath, 'r') as file:\n",
    "    text = file.read()\n",
    "    print(text)"
   ]
  },
  {
   "cell_type": "code",
   "execution_count": 24,
   "id": "30d72eeb-c9f6-4411-ac32-884d83d1753c",
   "metadata": {
    "tags": []
   },
   "outputs": [],
   "source": [
    "output_path = Path(r\"C:\\Users\\victo\\OneDrive\\Documentos\\1. Fintech\\Output.txt\")"
   ]
  },
  {
   "cell_type": "code",
   "execution_count": 28,
   "id": "db2fe0e1-6c43-4e0a-98b2-d544b5fa402c",
   "metadata": {
    "tags": []
   },
   "outputs": [],
   "source": [
    "with open(output_path, 'w') as file:\n",
    "    file.write(\"This is an output file.\\n\\n\")\n",
    "    file.write(text)"
   ]
  },
  {
   "cell_type": "code",
   "execution_count": null,
   "id": "d3dbd9a3-cf8c-4909-be23-8397ebadfefb",
   "metadata": {},
   "outputs": [],
   "source": []
  }
 ],
 "metadata": {
  "kernelspec": {
   "display_name": "Python 3 (ipykernel)",
   "language": "python",
   "name": "python3"
  },
  "language_info": {
   "codemirror_mode": {
    "name": "ipython",
    "version": 3
   },
   "file_extension": ".py",
   "mimetype": "text/x-python",
   "name": "python",
   "nbconvert_exporter": "python",
   "pygments_lexer": "ipython3",
   "version": "3.10.12"
  }
 },
 "nbformat": 4,
 "nbformat_minor": 5
}
