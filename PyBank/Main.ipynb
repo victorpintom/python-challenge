{
 "cells": [
  {
   "cell_type": "code",
   "execution_count": 3,
   "id": "45483b4e-9441-44b5-960c-2f6c6819b05d",
   "metadata": {},
   "outputs": [
    {
     "name": "stdout",
     "output_type": "stream",
     "text": [
      "        Date  Profit/Losses\n",
      "0   Jan-2010         867884\n",
      "1   Feb-2010         984655\n",
      "2   Mar-2010         322013\n",
      "3   Apr-2010         -69417\n",
      "4   May-2010         310503\n",
      "..       ...            ...\n",
      "81  Oct-2016         102685\n",
      "82  Nov-2016         795914\n",
      "83  Dec-2016          60988\n",
      "84  Jan-2017         138230\n",
      "85  Feb-2017         671099\n",
      "\n",
      "[86 rows x 2 columns]\n"
     ]
    }
   ],
   "source": [
    "import pandas as pd\n",
    "df = pd.read_csv(r'C:\\Users\\victo\\OneDrive\\Documentos\\GitHub\\python-challenge\\PyBank\\budget_data.csv')\n",
    "print(df)"
   ]
  },
  {
   "cell_type": "code",
   "execution_count": 4,
   "id": "d6d4088d-3c80-416e-b920-45d0646edfce",
   "metadata": {
    "tags": []
   },
   "outputs": [],
   "source": [
    "import numpy as np"
   ]
  },
  {
   "cell_type": "code",
   "execution_count": 5,
   "id": "85712fa3-74b4-40f8-8c80-fd37780f3803",
   "metadata": {
    "tags": []
   },
   "outputs": [
    {
     "name": "stdout",
     "output_type": "stream",
     "text": [
      "Total Months:  86\n"
     ]
    }
   ],
   "source": [
    "print(\"Total Months: \",len(df))"
   ]
  },
  {
   "cell_type": "code",
   "execution_count": 6,
   "id": "84288868-e920-4064-8cf9-0949157a7ff7",
   "metadata": {
    "tags": []
   },
   "outputs": [],
   "source": [
    "total_months = 0"
   ]
  },
  {
   "cell_type": "code",
   "execution_count": 7,
   "id": "ab489009-a005-46b8-b1b5-9c0a28063d07",
   "metadata": {
    "tags": []
   },
   "outputs": [],
   "source": [
    "text_path = \"output.txt\""
   ]
  },
  {
   "cell_type": "code",
   "execution_count": 8,
   "id": "8230e847-bb9a-4528-823d-55d246c648d6",
   "metadata": {
    "tags": []
   },
   "outputs": [],
   "source": [
    "total_months = len(df)"
   ]
  },
  {
   "cell_type": "code",
   "execution_count": 9,
   "id": "dff7750d-b94e-4b03-aad5-6ab11b62fe3c",
   "metadata": {
    "tags": []
   },
   "outputs": [
    {
     "data": {
      "text/plain": [
       "86"
      ]
     },
     "execution_count": 9,
     "metadata": {},
     "output_type": "execute_result"
    }
   ],
   "source": [
    "total_months"
   ]
  },
  {
   "cell_type": "code",
   "execution_count": 10,
   "id": "c139a5de-b68a-4f68-8264-ed69bd0d4ec0",
   "metadata": {
    "tags": []
   },
   "outputs": [],
   "source": [
    "Total = df['Profit/Losses'].sum()"
   ]
  },
  {
   "cell_type": "code",
   "execution_count": 11,
   "id": "a0d757ed-eb42-4621-89f7-96491d968192",
   "metadata": {
    "tags": []
   },
   "outputs": [
    {
     "data": {
      "text/plain": [
       "38382578"
      ]
     },
     "execution_count": 11,
     "metadata": {},
     "output_type": "execute_result"
    }
   ],
   "source": [
    "Total"
   ]
  },
  {
   "cell_type": "code",
   "execution_count": 12,
   "id": "d588f14d-b617-4d36-8f05-453e3b2a901b",
   "metadata": {
    "tags": []
   },
   "outputs": [],
   "source": [
    "Dif_P_L = df['Profit/Losses'].diff()"
   ]
  },
  {
   "cell_type": "code",
   "execution_count": 13,
   "id": "96e18a2f-ed1a-4cdc-9c33-abe3486681e2",
   "metadata": {
    "tags": []
   },
   "outputs": [
    {
     "data": {
      "text/plain": [
       "0          NaN\n",
       "1     116771.0\n",
       "2    -662642.0\n",
       "3    -391430.0\n",
       "4     379920.0\n",
       "        ...   \n",
       "81   -665765.0\n",
       "82    693229.0\n",
       "83   -734926.0\n",
       "84     77242.0\n",
       "85    532869.0\n",
       "Name: Profit/Losses, Length: 86, dtype: float64"
      ]
     },
     "execution_count": 13,
     "metadata": {},
     "output_type": "execute_result"
    }
   ],
   "source": [
    "Dif_P_L"
   ]
  },
  {
   "cell_type": "code",
   "execution_count": 14,
   "id": "031d8180-c830-4abf-9aa4-5dc1ee41798f",
   "metadata": {
    "tags": []
   },
   "outputs": [],
   "source": [
    "Average_Change = round(np.mean(Dif_P_L),2)"
   ]
  },
  {
   "cell_type": "code",
   "execution_count": 15,
   "id": "ee2bac10-0122-4874-986d-0a92dba34e90",
   "metadata": {
    "tags": []
   },
   "outputs": [
    {
     "data": {
      "text/plain": [
       "-2315.12"
      ]
     },
     "execution_count": 15,
     "metadata": {},
     "output_type": "execute_result"
    }
   ],
   "source": [
    "Average_Change"
   ]
  },
  {
   "cell_type": "code",
   "execution_count": 16,
   "id": "9ee011b8-ac41-4d80-a1b8-a793c7b2a4fb",
   "metadata": {
    "tags": []
   },
   "outputs": [],
   "source": [
    "Greatest_Increase = Dif_P_L.max()"
   ]
  },
  {
   "cell_type": "code",
   "execution_count": 17,
   "id": "4cbd4c61-afdb-425f-ab23-455e3a12a1a3",
   "metadata": {
    "tags": []
   },
   "outputs": [
    {
     "data": {
      "text/plain": [
       "1926159.0"
      ]
     },
     "execution_count": 17,
     "metadata": {},
     "output_type": "execute_result"
    }
   ],
   "source": [
    "Greatest_Increase"
   ]
  },
  {
   "cell_type": "code",
   "execution_count": 18,
   "id": "cd1516cd-e158-49d5-ab77-dc33b041379f",
   "metadata": {
    "tags": []
   },
   "outputs": [
    {
     "ename": "ValueError",
     "evalue": "expr must be a string to be evaluated, <class 'bool'> given",
     "output_type": "error",
     "traceback": [
      "\u001b[1;31m---------------------------------------------------------------------------\u001b[0m",
      "\u001b[1;31mValueError\u001b[0m                                Traceback (most recent call last)",
      "\u001b[1;32m~\\AppData\\Local\\Temp\\ipykernel_21328\\3375422379.py\u001b[0m in \u001b[0;36m?\u001b[1;34m()\u001b[0m\n\u001b[1;32m----> 1\u001b[1;33m \u001b[0mGreatest_Increase_Date\u001b[0m \u001b[1;33m=\u001b[0m \u001b[0mdf\u001b[0m\u001b[1;33m.\u001b[0m\u001b[0mquery\u001b[0m\u001b[1;33m(\u001b[0m\u001b[1;34m\"Profit/Losses\"\u001b[0m \u001b[1;33m==\u001b[0m \u001b[0mGreatest_Increase\u001b[0m\u001b[1;33m)\u001b[0m\u001b[1;33m[\u001b[0m\u001b[1;34m\"Date\"\u001b[0m\u001b[1;33m]\u001b[0m\u001b[1;33m\u001b[0m\u001b[1;33m\u001b[0m\u001b[0m\n\u001b[0m",
      "\u001b[1;32m~\\anaconda3\\envs\\dev\\lib\\site-packages\\pandas\\core\\frame.py\u001b[0m in \u001b[0;36m?\u001b[1;34m(self, expr, inplace, **kwargs)\u001b[0m\n\u001b[0;32m   4433\u001b[0m         \"\"\"\n\u001b[0;32m   4434\u001b[0m         \u001b[0minplace\u001b[0m \u001b[1;33m=\u001b[0m \u001b[0mvalidate_bool_kwarg\u001b[0m\u001b[1;33m(\u001b[0m\u001b[0minplace\u001b[0m\u001b[1;33m,\u001b[0m \u001b[1;34m\"inplace\"\u001b[0m\u001b[1;33m)\u001b[0m\u001b[1;33m\u001b[0m\u001b[1;33m\u001b[0m\u001b[0m\n\u001b[0;32m   4435\u001b[0m         \u001b[1;32mif\u001b[0m \u001b[1;32mnot\u001b[0m \u001b[0misinstance\u001b[0m\u001b[1;33m(\u001b[0m\u001b[0mexpr\u001b[0m\u001b[1;33m,\u001b[0m \u001b[0mstr\u001b[0m\u001b[1;33m)\u001b[0m\u001b[1;33m:\u001b[0m\u001b[1;33m\u001b[0m\u001b[1;33m\u001b[0m\u001b[0m\n\u001b[0;32m   4436\u001b[0m             \u001b[0mmsg\u001b[0m \u001b[1;33m=\u001b[0m \u001b[1;34mf\"expr must be a string to be evaluated, {type(expr)} given\"\u001b[0m\u001b[1;33m\u001b[0m\u001b[1;33m\u001b[0m\u001b[0m\n\u001b[1;32m-> 4437\u001b[1;33m             \u001b[1;32mraise\u001b[0m \u001b[0mValueError\u001b[0m\u001b[1;33m(\u001b[0m\u001b[0mmsg\u001b[0m\u001b[1;33m)\u001b[0m\u001b[1;33m\u001b[0m\u001b[1;33m\u001b[0m\u001b[0m\n\u001b[0m\u001b[0;32m   4438\u001b[0m         \u001b[0mkwargs\u001b[0m\u001b[1;33m[\u001b[0m\u001b[1;34m\"level\"\u001b[0m\u001b[1;33m]\u001b[0m \u001b[1;33m=\u001b[0m \u001b[0mkwargs\u001b[0m\u001b[1;33m.\u001b[0m\u001b[0mpop\u001b[0m\u001b[1;33m(\u001b[0m\u001b[1;34m\"level\"\u001b[0m\u001b[1;33m,\u001b[0m \u001b[1;36m0\u001b[0m\u001b[1;33m)\u001b[0m \u001b[1;33m+\u001b[0m \u001b[1;36m1\u001b[0m\u001b[1;33m\u001b[0m\u001b[1;33m\u001b[0m\u001b[0m\n\u001b[0;32m   4439\u001b[0m         \u001b[0mkwargs\u001b[0m\u001b[1;33m[\u001b[0m\u001b[1;34m\"target\"\u001b[0m\u001b[1;33m]\u001b[0m \u001b[1;33m=\u001b[0m \u001b[1;32mNone\u001b[0m\u001b[1;33m\u001b[0m\u001b[1;33m\u001b[0m\u001b[0m\n\u001b[0;32m   4440\u001b[0m         \u001b[0mres\u001b[0m \u001b[1;33m=\u001b[0m \u001b[0mself\u001b[0m\u001b[1;33m.\u001b[0m\u001b[0meval\u001b[0m\u001b[1;33m(\u001b[0m\u001b[0mexpr\u001b[0m\u001b[1;33m,\u001b[0m \u001b[1;33m**\u001b[0m\u001b[0mkwargs\u001b[0m\u001b[1;33m)\u001b[0m\u001b[1;33m\u001b[0m\u001b[1;33m\u001b[0m\u001b[0m\n",
      "\u001b[1;31mValueError\u001b[0m: expr must be a string to be evaluated, <class 'bool'> given"
     ]
    }
   ],
   "source": [
    "Greatest_Increase_Date = df.query(\"Profit/Losses\" == Greatest_Increase)[\"Date\"]"
   ]
  },
  {
   "cell_type": "code",
   "execution_count": 19,
   "id": "e823be85-db25-49fb-a820-4f12ac3ad905",
   "metadata": {
    "tags": []
   },
   "outputs": [
    {
     "ename": "NameError",
     "evalue": "name 'Greatest_Increase_Date' is not defined",
     "output_type": "error",
     "traceback": [
      "\u001b[1;31m---------------------------------------------------------------------------\u001b[0m",
      "\u001b[1;31mNameError\u001b[0m                                 Traceback (most recent call last)",
      "Cell \u001b[1;32mIn[19], line 1\u001b[0m\n\u001b[1;32m----> 1\u001b[0m \u001b[43mGreatest_Increase_Date\u001b[49m\n",
      "\u001b[1;31mNameError\u001b[0m: name 'Greatest_Increase_Date' is not defined"
     ]
    }
   ],
   "source": [
    "Greatest_Increase_Date"
   ]
  },
  {
   "cell_type": "code",
   "execution_count": 20,
   "id": "bc218deb-f74e-4b11-b0c7-4f2c611bd8bd",
   "metadata": {
    "tags": []
   },
   "outputs": [],
   "source": [
    "Greatest_Decrease = Dif_P_L.min()"
   ]
  },
  {
   "cell_type": "code",
   "execution_count": 21,
   "id": "3d738f49-0a3d-4019-b271-df4bd5e0cd39",
   "metadata": {
    "tags": []
   },
   "outputs": [
    {
     "data": {
      "text/plain": [
       "-2196167.0"
      ]
     },
     "execution_count": 21,
     "metadata": {},
     "output_type": "execute_result"
    }
   ],
   "source": [
    "Greatest_Decrease"
   ]
  },
  {
   "cell_type": "code",
   "execution_count": 22,
   "id": "306fdf54-dadf-4e86-b1ee-83c3630a7f26",
   "metadata": {},
   "outputs": [],
   "source": [
    "with open(text_path, 'w') as file:\n",
    "    file.write(\"Financial Analysis\\n\\n\")\n",
    "    file.write(\"---------------------\\n\\n\")\n",
    "    file.write(\"Total Months: %d\\n\\n\" % total_months)\n",
    "    file.write(\"Total: $%d \\n\\n\" % Total)\n",
    "    file.write(\"Average Change: $%.2f \\n\\n\" % Average_Change)\n",
    "    file.write(\"Greatest Increase in Profits: ($%d) \\n\\n\" % Greatest_Increase)\n",
    "    file.write(\"Greatest Decrease in Profits: ($%d) \\n\\n\" % Greatest_Decrease)"
   ]
  },
  {
   "cell_type": "code",
   "execution_count": null,
   "id": "0648e3c3-260d-4991-8239-c8ff36e73fd2",
   "metadata": {},
   "outputs": [],
   "source": []
  }
 ],
 "metadata": {
  "kernelspec": {
   "display_name": "Python 3 (ipykernel)",
   "language": "python",
   "name": "python3"
  },
  "language_info": {
   "codemirror_mode": {
    "name": "ipython",
    "version": 3
   },
   "file_extension": ".py",
   "mimetype": "text/x-python",
   "name": "python",
   "nbconvert_exporter": "python",
   "pygments_lexer": "ipython3",
   "version": "3.10.12"
  }
 },
 "nbformat": 4,
 "nbformat_minor": 5
}
